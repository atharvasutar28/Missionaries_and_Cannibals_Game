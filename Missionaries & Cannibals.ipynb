{
 "cells": [
  {
   "cell_type": "code",
   "execution_count": 6,
   "id": "e396d610",
   "metadata": {},
   "outputs": [
    {
     "name": "stdout",
     "output_type": "stream",
     "text": [
      "💂💂💂 👹👹👹 🚢 🌊🌊🌊🌊🌊  \n",
      "YOU WIN\n"
     ]
    }
   ],
   "source": [
    "from IPython.display import clear_output\n",
    "\n",
    "boat_side = 'Right'\n",
    "missionaries_on_right = 3\n",
    "cannibals_on_right = 3\n",
    "missionaries_on_left = 0\n",
    "cannibals_on_left = 0\n",
    "\n",
    "print('\\U0001f482' * missionaries_on_left, '\\U0001f479' * cannibals_on_left, '\\U0001f30a' * 5, '\\U0001f6A2' * 1, '\\U0001f482' * missionaries_on_right, '\\U0001f479' * cannibals_on_right)\n",
    "\n",
    "while True:\n",
    "    \n",
    "    missionaries = int(input(\"Enter number of Missionaries on Boat :- \"))\n",
    "    cannibals = int(input(\"Enter number of Cannibals on Boat :- \"))\n",
    "    clear_output()\n",
    "    if (missionaries + cannibals < 1) or (missionaries + cannibals > 2):\n",
    "        print(\"Invalid Move 1\")\n",
    "        continue\n",
    "\n",
    "\n",
    "\n",
    "    if boat_side == \"Right\":  \n",
    "\n",
    "        if (missionaries > missionaries_on_right) or (cannibals > cannibals_on_right):\n",
    "            print(\"Invalid Move 2\")\n",
    "            continue\n",
    "        else:\n",
    "            missionaries_on_right = missionaries_on_right - missionaries\n",
    "            cannibals_on_right = cannibals_on_right - cannibals\n",
    "            missionaries_on_left = missionaries_on_left + missionaries\n",
    "            cannibals_on_left = cannibals_on_left + cannibals\n",
    "\n",
    "            print('\\U0001f482' * missionaries_on_left, '\\U0001f479' * cannibals_on_left, '\\U0001f6A2' * 1, '\\U0001f30a' * 5, '\\U0001f482' * missionaries_on_right, '\\U0001f479' * cannibals_on_right)\n",
    "            boat_side = \"Left\"\n",
    "\n",
    "\n",
    "\n",
    "    elif boat_side == \"Left\":\n",
    "\n",
    "        if (missionaries > missionaries_on_left) or (cannibals > cannibals_on_left):\n",
    "            print(\"Invalid Move 2\")\n",
    "            continue\n",
    "        else:\n",
    "            missionaries_on_left = missionaries_on_left - missionaries\n",
    "            cannibals_on_left = cannibals_on_left - cannibals\n",
    "            missionaries_on_right = missionaries_on_right + missionaries\n",
    "            cannibals_on_right = cannibals_on_right + cannibals\n",
    "\n",
    "            print('\\U0001f482' * missionaries_on_left, '\\U0001f479' * cannibals_on_left, '\\U0001f30a' * 5, '\\U0001f6A2' * 1, '\\U0001f482' * missionaries_on_right, '\\U0001f479' * cannibals_on_right)\n",
    "            boat_side = \"Right\"\n",
    "\n",
    "    if (missionaries_on_right < cannibals_on_right) and (missionaries_on_right > 0):\n",
    "        print('YOU LOSE')\n",
    "        break\n",
    "\n",
    "    if (missionaries_on_left < cannibals_on_left) and (missionaries_on_left > 0):\n",
    "        print(\"YOU LOSE!!\")\n",
    "        break\n",
    "\n",
    "    if (missionaries_on_left == 3) and (cannibals_on_left == 3):\n",
    "        print(\"YOU WIN!!\")\n",
    "        break"
   ]
  },
  {
   "cell_type": "code",
   "execution_count": null,
   "id": "7867bed2",
   "metadata": {},
   "outputs": [],
   "source": []
  }
 ],
 "metadata": {
  "kernelspec": {
   "display_name": "Python 3 (ipykernel)",
   "language": "python",
   "name": "python3"
  },
  "language_info": {
   "codemirror_mode": {
    "name": "ipython",
    "version": 3
   },
   "file_extension": ".py",
   "mimetype": "text/x-python",
   "name": "python",
   "nbconvert_exporter": "python",
   "pygments_lexer": "ipython3",
   "version": "3.11.4"
  }
 },
 "nbformat": 4,
 "nbformat_minor": 5
}
